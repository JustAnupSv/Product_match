{
 "cells": [
  {
   "cell_type": "code",
   "execution_count": 1,
   "id": "d5982d19",
   "metadata": {},
   "outputs": [],
   "source": [
    "import pandas as pd\n",
    "import numpy as np"
   ]
  },
  {
   "cell_type": "markdown",
   "id": "7a5393af",
   "metadata": {},
   "source": [
    "## importing Data"
   ]
  },
  {
   "cell_type": "code",
   "execution_count": 4,
   "id": "0a783953",
   "metadata": {},
   "outputs": [],
   "source": [
    "amazon = pd.read_csv('amz_com-ecommerce_sample.csv',encoding= 'unicode_escape')"
   ]
  },
  {
   "cell_type": "code",
   "execution_count": 6,
   "id": "8ac8d1c4",
   "metadata": {},
   "outputs": [],
   "source": [
    "flipkart = pd.read_csv('flipkart_com-ecommerce_sample.csv',encoding= 'unicode_escape')"
   ]
  },
  {
   "cell_type": "code",
   "execution_count": 18,
   "id": "29749db9",
   "metadata": {},
   "outputs": [],
   "source": [
    "amazon_df = amazon[[\"product_name\",\"pid\", \"retail_price\", \"discounted_price\"]]"
   ]
  },
  {
   "cell_type": "code",
   "execution_count": 19,
   "id": "7b76f8c7",
   "metadata": {},
   "outputs": [
    {
     "data": {
      "text/html": [
       "<div>\n",
       "<style scoped>\n",
       "    .dataframe tbody tr th:only-of-type {\n",
       "        vertical-align: middle;\n",
       "    }\n",
       "\n",
       "    .dataframe tbody tr th {\n",
       "        vertical-align: top;\n",
       "    }\n",
       "\n",
       "    .dataframe thead th {\n",
       "        text-align: right;\n",
       "    }\n",
       "</style>\n",
       "<table border=\"1\" class=\"dataframe\">\n",
       "  <thead>\n",
       "    <tr style=\"text-align: right;\">\n",
       "      <th></th>\n",
       "      <th>product_name</th>\n",
       "      <th>pid</th>\n",
       "      <th>retail_price</th>\n",
       "      <th>discounted_price</th>\n",
       "    </tr>\n",
       "  </thead>\n",
       "  <tbody>\n",
       "    <tr>\n",
       "      <th>0</th>\n",
       "      <td>Alisha Solid Women's Cycling Shorts</td>\n",
       "      <td>SRTEH2FF9KEDEFGF</td>\n",
       "      <td>982</td>\n",
       "      <td>438</td>\n",
       "    </tr>\n",
       "    <tr>\n",
       "      <th>1</th>\n",
       "      <td>FabHomeDecor Fabric Double Sofa Bed</td>\n",
       "      <td>SBEEH3QGU7MFYJFY</td>\n",
       "      <td>32143</td>\n",
       "      <td>29121</td>\n",
       "    </tr>\n",
       "    <tr>\n",
       "      <th>2</th>\n",
       "      <td>AW Bellies</td>\n",
       "      <td>SHOEH4GRSUBJGZXE</td>\n",
       "      <td>991</td>\n",
       "      <td>551</td>\n",
       "    </tr>\n",
       "    <tr>\n",
       "      <th>3</th>\n",
       "      <td>Alisha Solid Women's Cycling Shorts</td>\n",
       "      <td>SRTEH2F6HUZMQ6SJ</td>\n",
       "      <td>694</td>\n",
       "      <td>325</td>\n",
       "    </tr>\n",
       "    <tr>\n",
       "      <th>4</th>\n",
       "      <td>Sicons All Purpose Arnica Dog Shampoo</td>\n",
       "      <td>PSOEH3ZYDMSYARJ5</td>\n",
       "      <td>208</td>\n",
       "      <td>258</td>\n",
       "    </tr>\n",
       "  </tbody>\n",
       "</table>\n",
       "</div>"
      ],
      "text/plain": [
       "                            product_name               pid  retail_price  \\\n",
       "0    Alisha Solid Women's Cycling Shorts  SRTEH2FF9KEDEFGF           982   \n",
       "1    FabHomeDecor Fabric Double Sofa Bed  SBEEH3QGU7MFYJFY         32143   \n",
       "2                             AW Bellies  SHOEH4GRSUBJGZXE           991   \n",
       "3    Alisha Solid Women's Cycling Shorts  SRTEH2F6HUZMQ6SJ           694   \n",
       "4  Sicons All Purpose Arnica Dog Shampoo  PSOEH3ZYDMSYARJ5           208   \n",
       "\n",
       "   discounted_price  \n",
       "0               438  \n",
       "1             29121  \n",
       "2               551  \n",
       "3               325  \n",
       "4               258  "
      ]
     },
     "execution_count": 19,
     "metadata": {},
     "output_type": "execute_result"
    }
   ],
   "source": [
    "amazon_df.head()"
   ]
  },
  {
   "cell_type": "code",
   "execution_count": 20,
   "id": "6497c3f6",
   "metadata": {},
   "outputs": [],
   "source": [
    "flipkart_df = flipkart[[\"product_name\",\"pid\", \"retail_price\", \"discounted_price\"]]"
   ]
  },
  {
   "cell_type": "code",
   "execution_count": 21,
   "id": "9799713c",
   "metadata": {},
   "outputs": [
    {
     "data": {
      "text/html": [
       "<div>\n",
       "<style scoped>\n",
       "    .dataframe tbody tr th:only-of-type {\n",
       "        vertical-align: middle;\n",
       "    }\n",
       "\n",
       "    .dataframe tbody tr th {\n",
       "        vertical-align: top;\n",
       "    }\n",
       "\n",
       "    .dataframe thead th {\n",
       "        text-align: right;\n",
       "    }\n",
       "</style>\n",
       "<table border=\"1\" class=\"dataframe\">\n",
       "  <thead>\n",
       "    <tr style=\"text-align: right;\">\n",
       "      <th></th>\n",
       "      <th>product_name</th>\n",
       "      <th>pid</th>\n",
       "      <th>retail_price</th>\n",
       "      <th>discounted_price</th>\n",
       "    </tr>\n",
       "  </thead>\n",
       "  <tbody>\n",
       "    <tr>\n",
       "      <th>0</th>\n",
       "      <td>Alisha Solid Women's Cycling Shorts</td>\n",
       "      <td>SRTEH2FF9KEDEFGF</td>\n",
       "      <td>999.0</td>\n",
       "      <td>379.0</td>\n",
       "    </tr>\n",
       "    <tr>\n",
       "      <th>1</th>\n",
       "      <td>FabHomeDecor Fabric Double Sofa Bed</td>\n",
       "      <td>SBEEH3QGU7MFYJFY</td>\n",
       "      <td>32157.0</td>\n",
       "      <td>22646.0</td>\n",
       "    </tr>\n",
       "    <tr>\n",
       "      <th>2</th>\n",
       "      <td>AW Bellies</td>\n",
       "      <td>SHOEH4GRSUBJGZXE</td>\n",
       "      <td>999.0</td>\n",
       "      <td>499.0</td>\n",
       "    </tr>\n",
       "    <tr>\n",
       "      <th>3</th>\n",
       "      <td>Alisha Solid Women's Cycling Shorts</td>\n",
       "      <td>SRTEH2F6HUZMQ6SJ</td>\n",
       "      <td>699.0</td>\n",
       "      <td>267.0</td>\n",
       "    </tr>\n",
       "    <tr>\n",
       "      <th>4</th>\n",
       "      <td>Sicons All Purpose Arnica Dog Shampoo</td>\n",
       "      <td>PSOEH3ZYDMSYARJ5</td>\n",
       "      <td>220.0</td>\n",
       "      <td>210.0</td>\n",
       "    </tr>\n",
       "  </tbody>\n",
       "</table>\n",
       "</div>"
      ],
      "text/plain": [
       "                            product_name               pid  retail_price  \\\n",
       "0    Alisha Solid Women's Cycling Shorts  SRTEH2FF9KEDEFGF         999.0   \n",
       "1    FabHomeDecor Fabric Double Sofa Bed  SBEEH3QGU7MFYJFY       32157.0   \n",
       "2                             AW Bellies  SHOEH4GRSUBJGZXE         999.0   \n",
       "3    Alisha Solid Women's Cycling Shorts  SRTEH2F6HUZMQ6SJ         699.0   \n",
       "4  Sicons All Purpose Arnica Dog Shampoo  PSOEH3ZYDMSYARJ5         220.0   \n",
       "\n",
       "   discounted_price  \n",
       "0             379.0  \n",
       "1           22646.0  \n",
       "2             499.0  \n",
       "3             267.0  \n",
       "4             210.0  "
      ]
     },
     "execution_count": 21,
     "metadata": {},
     "output_type": "execute_result"
    }
   ],
   "source": [
    "flipkart_df.head()"
   ]
  },
  {
   "cell_type": "markdown",
   "id": "6f37da11",
   "metadata": {},
   "source": [
    "## Merging  Data"
   ]
  },
  {
   "cell_type": "code",
   "execution_count": 23,
   "id": "4bc3d40e",
   "metadata": {},
   "outputs": [],
   "source": [
    "final_data = pd.merge(amazon_df,flipkart_df,on='pid')"
   ]
  },
  {
   "cell_type": "code",
   "execution_count": 25,
   "id": "6fb046b6",
   "metadata": {},
   "outputs": [
    {
     "data": {
      "text/html": [
       "<div>\n",
       "<style scoped>\n",
       "    .dataframe tbody tr th:only-of-type {\n",
       "        vertical-align: middle;\n",
       "    }\n",
       "\n",
       "    .dataframe tbody tr th {\n",
       "        vertical-align: top;\n",
       "    }\n",
       "\n",
       "    .dataframe thead th {\n",
       "        text-align: right;\n",
       "    }\n",
       "</style>\n",
       "<table border=\"1\" class=\"dataframe\">\n",
       "  <thead>\n",
       "    <tr style=\"text-align: right;\">\n",
       "      <th></th>\n",
       "      <th>product_name_x</th>\n",
       "      <th>retail_price_x</th>\n",
       "      <th>discounted_price_x</th>\n",
       "      <th>product_name_y</th>\n",
       "      <th>retail_price_y</th>\n",
       "      <th>discounted_price_y</th>\n",
       "    </tr>\n",
       "  </thead>\n",
       "  <tbody>\n",
       "    <tr>\n",
       "      <th>0</th>\n",
       "      <td>Alisha Solid Women's Cycling Shorts</td>\n",
       "      <td>982</td>\n",
       "      <td>438</td>\n",
       "      <td>Alisha Solid Women's Cycling Shorts</td>\n",
       "      <td>999.0</td>\n",
       "      <td>379.0</td>\n",
       "    </tr>\n",
       "    <tr>\n",
       "      <th>1</th>\n",
       "      <td>FabHomeDecor Fabric Double Sofa Bed</td>\n",
       "      <td>32143</td>\n",
       "      <td>29121</td>\n",
       "      <td>FabHomeDecor Fabric Double Sofa Bed</td>\n",
       "      <td>32157.0</td>\n",
       "      <td>22646.0</td>\n",
       "    </tr>\n",
       "    <tr>\n",
       "      <th>2</th>\n",
       "      <td>AW Bellies</td>\n",
       "      <td>991</td>\n",
       "      <td>551</td>\n",
       "      <td>AW Bellies</td>\n",
       "      <td>999.0</td>\n",
       "      <td>499.0</td>\n",
       "    </tr>\n",
       "    <tr>\n",
       "      <th>3</th>\n",
       "      <td>Alisha Solid Women's Cycling Shorts</td>\n",
       "      <td>694</td>\n",
       "      <td>325</td>\n",
       "      <td>Alisha Solid Women's Cycling Shorts</td>\n",
       "      <td>699.0</td>\n",
       "      <td>267.0</td>\n",
       "    </tr>\n",
       "    <tr>\n",
       "      <th>4</th>\n",
       "      <td>Sicons All Purpose Arnica Dog Shampoo</td>\n",
       "      <td>208</td>\n",
       "      <td>258</td>\n",
       "      <td>Sicons All Purpose Arnica Dog Shampoo</td>\n",
       "      <td>220.0</td>\n",
       "      <td>210.0</td>\n",
       "    </tr>\n",
       "  </tbody>\n",
       "</table>\n",
       "</div>"
      ],
      "text/plain": [
       "                          product_name_x  retail_price_x  discounted_price_x  \\\n",
       "0    Alisha Solid Women's Cycling Shorts             982                 438   \n",
       "1    FabHomeDecor Fabric Double Sofa Bed           32143               29121   \n",
       "2                             AW Bellies             991                 551   \n",
       "3    Alisha Solid Women's Cycling Shorts             694                 325   \n",
       "4  Sicons All Purpose Arnica Dog Shampoo             208                 258   \n",
       "\n",
       "                          product_name_y  retail_price_y  discounted_price_y  \n",
       "0    Alisha Solid Women's Cycling Shorts           999.0               379.0  \n",
       "1    FabHomeDecor Fabric Double Sofa Bed         32157.0             22646.0  \n",
       "2                             AW Bellies           999.0               499.0  \n",
       "3    Alisha Solid Women's Cycling Shorts           699.0               267.0  \n",
       "4  Sicons All Purpose Arnica Dog Shampoo           220.0               210.0  "
      ]
     },
     "execution_count": 25,
     "metadata": {},
     "output_type": "execute_result"
    }
   ],
   "source": [
    "final_data = final_data.drop(columns=['pid'])"
   ]
  },
  {
   "cell_type": "code",
   "execution_count": 27,
   "id": "5dc80681",
   "metadata": {},
   "outputs": [
    {
     "data": {
      "text/html": [
       "<div>\n",
       "<style scoped>\n",
       "    .dataframe tbody tr th:only-of-type {\n",
       "        vertical-align: middle;\n",
       "    }\n",
       "\n",
       "    .dataframe tbody tr th {\n",
       "        vertical-align: top;\n",
       "    }\n",
       "\n",
       "    .dataframe thead th {\n",
       "        text-align: right;\n",
       "    }\n",
       "</style>\n",
       "<table border=\"1\" class=\"dataframe\">\n",
       "  <thead>\n",
       "    <tr style=\"text-align: right;\">\n",
       "      <th></th>\n",
       "      <th>product_name_amazon</th>\n",
       "      <th>retail_price_amazon</th>\n",
       "      <th>discounted_price_amazon</th>\n",
       "      <th>product_name_flipkart</th>\n",
       "      <th>retail_price_flipkart</th>\n",
       "      <th>discounted_price_flipkart</th>\n",
       "    </tr>\n",
       "  </thead>\n",
       "  <tbody>\n",
       "    <tr>\n",
       "      <th>0</th>\n",
       "      <td>Alisha Solid Women's Cycling Shorts</td>\n",
       "      <td>982</td>\n",
       "      <td>438</td>\n",
       "      <td>Alisha Solid Women's Cycling Shorts</td>\n",
       "      <td>999.0</td>\n",
       "      <td>379.0</td>\n",
       "    </tr>\n",
       "    <tr>\n",
       "      <th>1</th>\n",
       "      <td>FabHomeDecor Fabric Double Sofa Bed</td>\n",
       "      <td>32143</td>\n",
       "      <td>29121</td>\n",
       "      <td>FabHomeDecor Fabric Double Sofa Bed</td>\n",
       "      <td>32157.0</td>\n",
       "      <td>22646.0</td>\n",
       "    </tr>\n",
       "    <tr>\n",
       "      <th>2</th>\n",
       "      <td>AW Bellies</td>\n",
       "      <td>991</td>\n",
       "      <td>551</td>\n",
       "      <td>AW Bellies</td>\n",
       "      <td>999.0</td>\n",
       "      <td>499.0</td>\n",
       "    </tr>\n",
       "    <tr>\n",
       "      <th>3</th>\n",
       "      <td>Alisha Solid Women's Cycling Shorts</td>\n",
       "      <td>694</td>\n",
       "      <td>325</td>\n",
       "      <td>Alisha Solid Women's Cycling Shorts</td>\n",
       "      <td>699.0</td>\n",
       "      <td>267.0</td>\n",
       "    </tr>\n",
       "    <tr>\n",
       "      <th>4</th>\n",
       "      <td>Sicons All Purpose Arnica Dog Shampoo</td>\n",
       "      <td>208</td>\n",
       "      <td>258</td>\n",
       "      <td>Sicons All Purpose Arnica Dog Shampoo</td>\n",
       "      <td>220.0</td>\n",
       "      <td>210.0</td>\n",
       "    </tr>\n",
       "  </tbody>\n",
       "</table>\n",
       "</div>"
      ],
      "text/plain": [
       "                     product_name_amazon  retail_price_amazon  \\\n",
       "0    Alisha Solid Women's Cycling Shorts                  982   \n",
       "1    FabHomeDecor Fabric Double Sofa Bed                32143   \n",
       "2                             AW Bellies                  991   \n",
       "3    Alisha Solid Women's Cycling Shorts                  694   \n",
       "4  Sicons All Purpose Arnica Dog Shampoo                  208   \n",
       "\n",
       "   discounted_price_amazon                  product_name_flipkart  \\\n",
       "0                      438    Alisha Solid Women's Cycling Shorts   \n",
       "1                    29121    FabHomeDecor Fabric Double Sofa Bed   \n",
       "2                      551                             AW Bellies   \n",
       "3                      325    Alisha Solid Women's Cycling Shorts   \n",
       "4                      258  Sicons All Purpose Arnica Dog Shampoo   \n",
       "\n",
       "   retail_price_flipkart  discounted_price_flipkart  \n",
       "0                  999.0                      379.0  \n",
       "1                32157.0                    22646.0  \n",
       "2                  999.0                      499.0  \n",
       "3                  699.0                      267.0  \n",
       "4                  220.0                      210.0  "
      ]
     },
     "execution_count": 27,
     "metadata": {},
     "output_type": "execute_result"
    }
   ],
   "source": [
    "final_data.rename(columns={\"product_name_x\": \"product_name_amazon\", \"retail_price_x\": \"retail_price_amazon\",\"discounted_price_x\":\"discounted_price_amazon\",\"product_name_y\":\"product_name_flipkart\",\"retail_price_y\":\"retail_price_flipkart\",\"discounted_price_y\":\"discounted_price_flipkart\"},inplace=True)\n",
    "final_data.head()"
   ]
  },
  {
   "cell_type": "code",
   "execution_count": 36,
   "id": "d64d50e1",
   "metadata": {},
   "outputs": [
    {
     "name": "stdout",
     "output_type": "stream",
     "text": [
      "<class 'pandas.core.frame.DataFrame'>\n",
      "Int64Index: 19926 entries, 0 to 20003\n",
      "Data columns (total 6 columns):\n",
      " #   Column                     Non-Null Count  Dtype  \n",
      "---  ------                     --------------  -----  \n",
      " 0   product_name_amazon        19926 non-null  object \n",
      " 1   retail_price_amazon        19926 non-null  int64  \n",
      " 2   discounted_price_amazon    19926 non-null  int64  \n",
      " 3   product_name_flipkart      19926 non-null  object \n",
      " 4   retail_price_flipkart      19926 non-null  float64\n",
      " 5   discounted_price_flipkart  19926 non-null  float64\n",
      "dtypes: float64(2), int64(2), object(2)\n",
      "memory usage: 1.1+ MB\n"
     ]
    }
   ],
   "source": [
    "final_data.info()"
   ]
  },
  {
   "cell_type": "code",
   "execution_count": 35,
   "id": "2e6c7e9d",
   "metadata": {},
   "outputs": [
    {
     "data": {
      "text/html": [
       "<div>\n",
       "<style scoped>\n",
       "    .dataframe tbody tr th:only-of-type {\n",
       "        vertical-align: middle;\n",
       "    }\n",
       "\n",
       "    .dataframe tbody tr th {\n",
       "        vertical-align: top;\n",
       "    }\n",
       "\n",
       "    .dataframe thead th {\n",
       "        text-align: right;\n",
       "    }\n",
       "</style>\n",
       "<table border=\"1\" class=\"dataframe\">\n",
       "  <thead>\n",
       "    <tr style=\"text-align: right;\">\n",
       "      <th></th>\n",
       "      <th>product_name_amazon</th>\n",
       "      <th>retail_price_amazon</th>\n",
       "      <th>discounted_price_amazon</th>\n",
       "      <th>product_name_flipkart</th>\n",
       "      <th>retail_price_flipkart</th>\n",
       "      <th>discounted_price_flipkart</th>\n",
       "    </tr>\n",
       "  </thead>\n",
       "  <tbody>\n",
       "    <tr>\n",
       "      <th>0</th>\n",
       "      <td>Alisha Solid Women's Cycling Shorts</td>\n",
       "      <td>982</td>\n",
       "      <td>438</td>\n",
       "      <td>Alisha Solid Women's Cycling Shorts</td>\n",
       "      <td>999.0</td>\n",
       "      <td>379.0</td>\n",
       "    </tr>\n",
       "    <tr>\n",
       "      <th>1</th>\n",
       "      <td>FabHomeDecor Fabric Double Sofa Bed</td>\n",
       "      <td>32143</td>\n",
       "      <td>29121</td>\n",
       "      <td>FabHomeDecor Fabric Double Sofa Bed</td>\n",
       "      <td>32157.0</td>\n",
       "      <td>22646.0</td>\n",
       "    </tr>\n",
       "    <tr>\n",
       "      <th>2</th>\n",
       "      <td>AW Bellies</td>\n",
       "      <td>991</td>\n",
       "      <td>551</td>\n",
       "      <td>AW Bellies</td>\n",
       "      <td>999.0</td>\n",
       "      <td>499.0</td>\n",
       "    </tr>\n",
       "    <tr>\n",
       "      <th>3</th>\n",
       "      <td>Alisha Solid Women's Cycling Shorts</td>\n",
       "      <td>694</td>\n",
       "      <td>325</td>\n",
       "      <td>Alisha Solid Women's Cycling Shorts</td>\n",
       "      <td>699.0</td>\n",
       "      <td>267.0</td>\n",
       "    </tr>\n",
       "    <tr>\n",
       "      <th>4</th>\n",
       "      <td>Sicons All Purpose Arnica Dog Shampoo</td>\n",
       "      <td>208</td>\n",
       "      <td>258</td>\n",
       "      <td>Sicons All Purpose Arnica Dog Shampoo</td>\n",
       "      <td>220.0</td>\n",
       "      <td>210.0</td>\n",
       "    </tr>\n",
       "  </tbody>\n",
       "</table>\n",
       "</div>"
      ],
      "text/plain": [
       "                     product_name_amazon  retail_price_amazon  \\\n",
       "0    Alisha Solid Women's Cycling Shorts                  982   \n",
       "1    FabHomeDecor Fabric Double Sofa Bed                32143   \n",
       "2                             AW Bellies                  991   \n",
       "3    Alisha Solid Women's Cycling Shorts                  694   \n",
       "4  Sicons All Purpose Arnica Dog Shampoo                  208   \n",
       "\n",
       "   discounted_price_amazon                  product_name_flipkart  \\\n",
       "0                      438    Alisha Solid Women's Cycling Shorts   \n",
       "1                    29121    FabHomeDecor Fabric Double Sofa Bed   \n",
       "2                      551                             AW Bellies   \n",
       "3                      325    Alisha Solid Women's Cycling Shorts   \n",
       "4                      258  Sicons All Purpose Arnica Dog Shampoo   \n",
       "\n",
       "   retail_price_flipkart  discounted_price_flipkart  \n",
       "0                  999.0                      379.0  \n",
       "1                32157.0                    22646.0  \n",
       "2                  999.0                      499.0  \n",
       "3                  699.0                      267.0  \n",
       "4                  220.0                      210.0  "
      ]
     },
     "execution_count": 35,
     "metadata": {},
     "output_type": "execute_result"
    }
   ],
   "source": [
    "final_data.dropna(inplace=True)\n",
    "final_data.head()"
   ]
  },
  {
   "cell_type": "code",
   "execution_count": 37,
   "id": "60ce6cdb",
   "metadata": {},
   "outputs": [],
   "source": [
    "final_data.to_csv(r'final_data.csv', index=False)"
   ]
  },
  {
   "cell_type": "markdown",
   "id": "83aa6650",
   "metadata": {},
   "source": [
    "#### For accessing Website of following APP go to :- https://shorturl.at/oqFRW "
   ]
  },
  {
   "cell_type": "markdown",
   "id": "80ffac48",
   "metadata": {},
   "source": [
    "#### In this website you can search the product and it'll get the result"
   ]
  },
  {
   "cell_type": "markdown",
   "id": "3f0d856c",
   "metadata": {},
   "source": [
    "#### This website has only first 100 rows of given due to Demo account (I'm using easy to acces API platform) but the Final_data.csv file is attached in GitHub folder with all the data"
   ]
  },
  {
   "cell_type": "code",
   "execution_count": null,
   "id": "c77659da",
   "metadata": {},
   "outputs": [],
   "source": []
  }
 ],
 "metadata": {
  "kernelspec": {
   "display_name": "Python 3 (ipykernel)",
   "language": "python",
   "name": "python3"
  },
  "language_info": {
   "codemirror_mode": {
    "name": "ipython",
    "version": 3
   },
   "file_extension": ".py",
   "mimetype": "text/x-python",
   "name": "python",
   "nbconvert_exporter": "python",
   "pygments_lexer": "ipython3",
   "version": "3.9.13"
  }
 },
 "nbformat": 4,
 "nbformat_minor": 5
}
